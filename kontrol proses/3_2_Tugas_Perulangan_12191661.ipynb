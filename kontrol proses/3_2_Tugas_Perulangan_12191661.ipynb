{
 "cells": [
  {
   "cell_type": "code",
   "execution_count": null,
   "metadata": {
    "id": "fkV8YRAQlm-C"
   },
   "outputs": [],
   "source": []
  },
  {
   "cell_type": "markdown",
   "metadata": {
    "id": "lnkJ-zBHl3jp"
   },
   "source": [
    "## Access Element\n",
    "Keunikan lain dari looping dengan python adalah selain bahasa yang mudah dimengerti dalam looping, kita juga bisa mengakses elemen yang terdapat pada sebuah list. Berikut ini contohnya :\n",
    "``` javascript\n",
    "#Tugas 3.2.1\n",
    "count=[1,2,3,4,5] #elemen list\n",
    "\n",
    "for number in count: #looping untuk menampilkan semua elemen pada count\n",
    "    print(\"Ini adalah element count : \", number) #menampilkan elemen list pada count\n",
    "```\n",
    "Implekementasikan kode diatas, ketikan pada code cell di bawah ini, berikan penjelasan terkait kode diatas"
   ]
  },
  {
   "cell_type": "code",
   "execution_count": 12,
   "metadata": {
    "id": "xYjQqqNLm-dB"
   },
   "outputs": [
    {
     "name": "stdout",
     "output_type": "stream",
     "text": [
      "Ini adalah element count :  1\n",
      "Ini adalah element count :  2\n",
      "Ini adalah element count :  3\n",
      "Ini adalah element count :  4\n",
      "Ini adalah element count :  5\n"
     ]
    }
   ],
   "source": [
    "# Jawaban Tugas 3.2.1\n",
    "count=[1,2,3,4,5]  #elemen list\n",
    "\n",
    "for number in count:  #looping untuk menampilkan semua elemen pada count \n",
    "    print(\"Ini adalah element count : \", number) #menampilkan elemen list pada count\n",
    "    \n",
    "\n",
    "#penjelasan :   \n",
    "#        Di baris 1 saya membuat variabel count sebagai tipe data list. List ini terdiri dari 5 element. \n",
    "#Menggunakan perulangan for,saya menampilkan semua isi variabel foo. Di dalam perulangan,variabel number \n",
    "#dipakai untuk menyimpan isi dari element yang saat ini sedang di proses.Nama variabel number sendiri \n",
    "#boleh bebas,fungsinya hanya sebagai variabel bantu \n",
    "    \n"
   ]
  },
  {
   "cell_type": "markdown",
   "metadata": {
    "id": "figDWKAcnZRA"
   },
   "source": [
    "## Tugas Praktek 3.2.2\n",
    "1. Buatlah sebuah program yang bisa mengeluarkan angka 1 sampai 10.\n",
    "1. Buatlah sebuah program yang bisa mengeluarkan angka -20 sampai -50.\n",
    "3. Tampilan akan menunjukan \"Angka ganjil 1\" untuk angka ganjil dan \"Angka genap 2\" untuk angka genap. (Menggunakan looping for)\n",
    "\n",
    "**Note:** Kode dasar sudah disertakan, Anda cukup mengganti tanda # dengan nilai-nilai yang sesuai."
   ]
  },
  {
   "cell_type": "code",
   "execution_count": 9,
   "metadata": {
    "id": "MElhruOTntzZ"
   },
   "outputs": [
    {
     "name": "stdout",
     "output_type": "stream",
     "text": [
      "1 2 3 4 5 6 7 8 9 10 "
     ]
    }
   ],
   "source": [
    "#Jawaban Tugas 3.2.1.1\n",
    "for i in range(1, 11):\n",
    "     print(i, end=\" \")\n",
    "    "
   ]
  },
  {
   "cell_type": "code",
   "execution_count": 5,
   "metadata": {
    "id": "NFtMjrQznuF2"
   },
   "outputs": [
    {
     "name": "stdout",
     "output_type": "stream",
     "text": [
      "\n",
      "-20 -21 -22 -23 -24 -25 -26 -27 -28 -29 -30 -31 -32 -33 -34 -35 -36 -37 -38 -39 -40 -41 -42 -43 -44 -45 -46 -47 -48 -49 -50 "
     ]
    }
   ],
   "source": [
    "#Jawaban Tugas 3.2.1.2\n",
    "\n",
    "print()\n",
    "for i in range(-20, -51, -1):\n",
    "    print(i, end=\" \")\n"
   ]
  },
  {
   "cell_type": "code",
   "execution_count": 46,
   "metadata": {
    "id": "xpGigMPBpBy7"
   },
   "outputs": [
    {
     "name": "stdout",
     "output_type": "stream",
     "text": [
      "Angka ganjil 1\n",
      "Angka genap 2\n",
      "Angka ganjil 1\n",
      "Angka genap 2\n",
      "Angka ganjil 1\n",
      "Angka genap 2\n",
      "Angka ganjil 1\n",
      "Angka genap 2\n",
      "Angka ganjil 1\n",
      "Angka genap 2\n"
     ]
    }
   ],
   "source": [
    "#Jawaban Tugas 3.2.1.3\n",
    "\n",
    "count=[1,2,3,4,5,6,7,8,9,10] \n",
    "for number in count:\n",
    "    if number > 0:\n",
    "        if (number % 2) == 0:\n",
    "            print (\"Angka genap 2\")\n",
    "        else:\n",
    "            print (\"Angka ganjil 1\")"
   ]
  },
  {
   "cell_type": "code",
   "execution_count": null,
   "metadata": {},
   "outputs": [],
   "source": []
  }
 ],
 "metadata": {
  "colab": {
   "collapsed_sections": [],
   "name": "3.2_Tugas_Perulangan.ipynb",
   "provenance": []
  },
  "kernelspec": {
   "display_name": "Python 3",
   "language": "python",
   "name": "python3"
  },
  "language_info": {
   "codemirror_mode": {
    "name": "ipython",
    "version": 3
   },
   "file_extension": ".py",
   "mimetype": "text/x-python",
   "name": "python",
   "nbconvert_exporter": "python",
   "pygments_lexer": "ipython3",
   "version": "3.8.3"
  }
 },
 "nbformat": 4,
 "nbformat_minor": 1
}
